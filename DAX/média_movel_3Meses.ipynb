{
 "cells": [
  {
   "cell_type": "markdown",
   "metadata": {},
   "source": [
    "\n",
    "\n",
    "## ========== Média Móvel (3 Meses) ========== \n",
    "\n",
    "Cenário:\n",
    "Um gráfico de coluna onde mostra o valor total mes a mes, mas a cada 3 meses eu quero saber a média móvel em uma linha.\n",
    "\n",
    " \n",
    "\n",
    "<br>\n",
    "<b>1)</b> Criar uma tabela d_Calendario, onde tenha uma coluna de data continua.\n",
    "\n",
    "<b>2)</b> Criar uma coluna concatenada mes/ano \n",
    "\n",
    "\n",
    "###### <i>Todas essas Tabelas e Relacionamentos estão abaixo, com os códigos TMDL </i>\n",
    "\n",
    "## ================================"
   ]
  },
  {
   "cell_type": "code",
   "execution_count": null,
   "metadata": {
    "vscode": {
     "languageId": "dax-language"
    }
   },
   "outputs": [],
   "source": [
    "Média_3meses = \n",
    "VAR Num_meses = 3\n",
    "VAR ultimadata = MAX(d_Calendario[Date])\n",
    "VAR periodo = DATESINPERIOD(d_Calendario[Date], ultimadata, -Num_meses, MONTH)\n",
    "\n",
    "VAR Resultado =\n",
    "IF([TotalValor] = BLANK(), BLANK(),\n",
    "CALCULATE(\n",
    "    AVERAGEX(\n",
    "        VALUES(d_Calendario[Mes/Ano]),[TotalValor]),periodo))\n",
    "\n",
    "RETURN Resultado\n",
    "\n",
    "\n",
    "// Trocar o [TotalValor] por sua medida préviamente criada"
   ]
  },
  {
   "cell_type": "markdown",
   "metadata": {},
   "source": [
    "<b> VAR Num_meses </b> Essa variável representa quantos meses eu desejo calcular (pode ser mais meses, ou uma forma dinâmica) <br>\n",
    "<b> VAR ultimadata <b> Variável que pega a ultima data do d_Calendario <br>\n",
    "<b> VAR periodo </b> Ele pega da tabela d_Calendario, a ultima data <i>ultimadata</i> - 3 meses <i> Num_Meses</i>, e no final eu coloco MONTH, para entender que é em meses <br>\n",
    "<b> VAR Resultado<b> Primeiro tem um IF, caso não tenha valor no mês selecionado, nem mostre.\n",
    "No segundo é um calculate, onde ele faz uma média, utilizando uma medida criada (apenas uma soma)<br>\n",
    "\n",
    "<i> Obs, essa medida poderia ser anual ou diária, mas nesse exemplo, é a média mensal mesmo.<i>\n"
   ]
  },
  {
   "cell_type": "markdown",
   "metadata": {},
   "source": [
    "## TDL do d_Calendario"
   ]
  },
  {
   "cell_type": "code",
   "execution_count": null,
   "metadata": {
    "vscode": {
     "languageId": "plaintext"
    }
   },
   "outputs": [],
   "source": [
    "createOrReplace\n",
    "\n",
    "\ttable d_Calendario\n",
    "\t\tlineageTag: 6d1b9e33-50b1-45c9-b0a0-3e1721269003\n",
    "\n",
    "\t\tcolumn Date\n",
    "\t\t\tformatString: Short Date\n",
    "\t\t\tlineageTag: eae79d7b-cf90-48f0-a2db-c891dca09446\n",
    "\t\t\tsummarizeBy: none\n",
    "\t\t\tisNameInferred\n",
    "\t\t\tsourceColumn: [Date]\n",
    "\n",
    "\t\t\tvariation Variation\n",
    "\t\t\t\tisDefault\n",
    "\t\t\t\trelationship: fe917e01-6a91-4911-a402-20efae5ce9a0\n",
    "\t\t\t\tdefaultHierarchy: LocalDateTable_36269855-d83b-4049-9a8a-dbe2d154b963.'Hierarquia de datas'\n",
    "\n",
    "\t\t\tannotation SummarizationSetBy = Automatic\n",
    "\n",
    "\t\tcolumn Mês = ```\n",
    "\t\t\t\t\n",
    "\t\t\t\tUPPER(LEFT(d_Calendario[Date].[Mês],1)) & LOWER(MID(d_Calendario[Date].[Mês],2,LEN(d_Calendario[Date].[Mês])))\n",
    "\t\t\t\t\n",
    "\t\t\t\t```\n",
    "\t\t\tlineageTag: d5bc5492-eb87-49e6-8b3f-f9faf1999604\n",
    "\t\t\tsummarizeBy: none\n",
    "\n",
    "\t\t\tannotation SummarizationSetBy = Automatic\n",
    "\n",
    "\t\tcolumn Ano = d_Calendario[Date].[Ano]\n",
    "\t\t\tformatString: 0\n",
    "\t\t\tlineageTag: b6d32bce-20e1-4da9-9222-634e8782384c\n",
    "\t\t\tsummarizeBy: sum\n",
    "\n",
    "\t\t\tannotation SummarizationSetBy = Automatic\n",
    "\n",
    "\t\tcolumn trimestre_num = d_Calendario[Date].[QuarterNo]\n",
    "\t\t\tformatString: 0\n",
    "\t\t\tlineageTag: adf3e3ad-eaa0-4954-9da0-08781a59e4f9\n",
    "\t\t\tsummarizeBy: sum\n",
    "\n",
    "\t\t\tannotation SummarizationSetBy = Automatic\n",
    "\n",
    "\t\tcolumn Mes/Ano = ```\n",
    "\t\t\t\t\n",
    "\t\t\t\tVAR MesAno = FORMAT(d_Calendario[Date], \"Mmm/yyyy\")\n",
    "\t\t\t\tVAR Resutado =  \n",
    "\t\t\t\tUPPER(LEFT(MesAno,1)) & LOWER(MID(MesAno,2,LEN(MesAno)))\n",
    "\t\t\t\t\n",
    "\t\t\t\tRETURN Resutado\n",
    "\t\t\t\t```\n",
    "\t\t\tlineageTag: d0ae289a-70f5-4b05-899f-001421b36e12\n",
    "\t\t\tsummarizeBy: none\n",
    "\t\t\tsortByColumn: 'ordem ano.mes'\n",
    "\n",
    "\t\t\tannotation SummarizationSetBy = Automatic\n",
    "\n",
    "\t\tcolumn 'Mês Numeral' = MONTH(d_Calendario[Date])\n",
    "\t\t\tformatString: 0\n",
    "\t\t\tlineageTag: 0622712c-e34e-4493-9dfc-c5ca8213ae8c\n",
    "\t\t\tsummarizeBy: sum\n",
    "\n",
    "\t\t\tannotation SummarizationSetBy = Automatic\n",
    "\n",
    "\t\tcolumn Trimestre = CONCATENATE(QUARTER(d_Calendario[Date]),\"Tri\")\n",
    "\t\t\tlineageTag: 5fcc12ca-f95b-4b43-b3fe-7b4b9e501596\n",
    "\t\t\tsummarizeBy: none\n",
    "\n",
    "\t\t\tannotation SummarizationSetBy = Automatic\n",
    "\n",
    "\t\tcolumn 'ordem ano.mes' = d_Calendario[Ano] & FORMAT(d_Calendario[Mês Numeral], \"00\")\n",
    "\t\t\tdataType: int64\n",
    "\t\t\tformatString: 0\n",
    "\t\t\tlineageTag: 635c8f2d-cdb6-4061-a41b-686b0f451468\n",
    "\t\t\tsummarizeBy: sum\n",
    "\n",
    "\t\t\tannotation SummarizationSetBy = Automatic\n",
    "\n",
    "\t\tpartition d_Calendario = calculated\n",
    "\t\t\tmode: import\n",
    "\t\t\tsource = CALENDARAUTO()\n",
    "\n",
    "\t\tannotation PBI_Id = e2492c64a8a743b284c50518b27c2b39\n",
    "\n"
   ]
  },
  {
   "cell_type": "markdown",
   "metadata": {},
   "source": []
  }
 ],
 "metadata": {
  "kernelspec": {
   "display_name": "Python 3",
   "language": "python",
   "name": "python3"
  },
  "language_info": {
   "codemirror_mode": {
    "name": "ipython",
    "version": 3
   },
   "file_extension": ".py",
   "mimetype": "text/x-python",
   "name": "python",
   "nbconvert_exporter": "python",
   "pygments_lexer": "ipython3",
   "version": "3.8.5"
  }
 },
 "nbformat": 4,
 "nbformat_minor": 4
}
