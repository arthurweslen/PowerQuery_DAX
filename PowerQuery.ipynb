{
 "cells": [
  {
   "cell_type": "markdown",
   "metadata": {},
   "source": [
    "# PowerQuery"
   ]
  },
  {
   "cell_type": "markdown",
   "metadata": {},
   "source": [
    "<b> • Atualização </b> <br>\n",
    "= DateTimeZone.LocalNow()\n",
    "\n",
    "<b> • Atualização -3 horas</b> <br>\n",
    "= DateTimeZone.SwitchZone(DateTimeZone.LocalNow(),-3)\n",
    "\n",
    "<b> •Filtrar até o dia de Hoje</b> <br>\n",
    "= Table.SelectRows(<u><i>#\"Etapa anterior\" </u></i>, each <u><i>[NOME DA COLUNA]</u></i> < Date.From(DateTime.LocalNow()))\n",
    "\n",
    "<b> • Filtrar os últimos 10 dias </b> <br>\n",
    "= Table.SelectRows(<u><i>#\"Etapa anterior\" </u></i> , each <u><i>[NOME DA COLUNA]</u></i> >= (Date.AddDays(Date.From(DateTime.LocalNow()),-10)))\n",
    "\n",
    "<b> • Filtrar Ontem </b> <i>(Se ontem for final de semana, filtrar Sexta-Feira)</i><br>\n",
    "= Table.SelectRows(<u><i>#\"Etapa anterior\" </u></i> <br>each if  <u><i>[COLUNA NOME SEMANA]</u></i> = \"Segunda-Feira\" then <u><i>[COLUNA DE DATA]</u></i> = (Date.AddDays(Date.From(DateTime.LocalNow()),-3)) <br>else <u><i>[COLUNA DE DATA]</u></i> = (Date.AddDays(Date.From(DateTime.LocalNow()),-1)))\n",
    "\n",
    "<b> • Acrescentar o número ZERO se o número não tiver 10 caracteres </b><br>\n",
    "= Table.AddColumn(<u><i>#\"Etapa anterior\"</u></i>, <u><i> \"NOVA COLUNA\"</u></i> , each Text.PadStart([COLUNA_PRINCIPAL],10, /"0 /"))\n"
   ]
  },
  {
   "cell_type": "code",
   "execution_count": null,
   "metadata": {},
   "outputs": [],
   "source": []
  }
 ],
 "metadata": {
  "kernelspec": {
   "display_name": "Python 3",
   "language": "python",
   "name": "python3"
  },
  "language_info": {
   "codemirror_mode": {
    "name": "ipython",
    "version": 3
   },
   "file_extension": ".py",
   "mimetype": "text/x-python",
   "name": "python",
   "nbconvert_exporter": "python",
   "pygments_lexer": "ipython3",
   "version": "3.8.5"
  }
 },
 "nbformat": 4,
 "nbformat_minor": 4
}
