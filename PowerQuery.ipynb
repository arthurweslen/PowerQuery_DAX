{
 "cells": [
  {
   "cell_type": "markdown",
   "metadata": {},
   "source": [
    "# PowerQuery"
   ]
  },
  {
   "cell_type": "markdown",
   "metadata": {},
   "source": [
    " <i>=-=-=-=-=-=-=-=-=-=-=-=-=-=-=-=-=-=-=-=-=-=-=-==-=-=-=-=-=-=-=-=-</i>"
   ]
  },
  {
   "cell_type": "markdown",
   "metadata": {},
   "source": [
    "### • Atualização (Data e Hora)\n",
    "<br>\n",
    "\n",
    "<b> • Atualização </b> <br>\n",
    "= DateTimeZone.LocalNow() <br>\n",
    "<b> • Atualização -3 horas</b> <br>\n",
    "= DateTimeZone.SwitchZone(DateTimeZone.LocalNow(),-3)"
   ]
  },
  {
   "cell_type": "markdown",
   "metadata": {},
   "source": [
    " <i>=-=-=-=-=-=-=-=-=-=-=-=-=-=-=-=-=-=-=-=-=-=-=-==-=-=-=-=-=-=-=-=-</i>"
   ]
  },
  {
   "cell_type": "markdown",
   "metadata": {},
   "source": [
    "### • Acrescentar Números/Caracter \n",
    "<br>\n",
    "<b> • Acrescentar o número ZERO se o número não tiver 10 caracteres </b><br>\n",
    "= Table.AddColumn(<i>#\"Etapa anterior\" , \"NOVA COLUNA\"</i> , each Text.PadStart([COLUNA_PRINCIPAL],10, \"0\"))"
   ]
  },
  {
   "cell_type": "markdown",
   "metadata": {},
   "source": [
    " <i>=-=-=-=-=-=-=-=-=-=-=-=-=-=-=-=-=-=-=-=-=-=-=-==-=-=-=-=-=-=-=-=-</i>"
   ]
  },
  {
   "cell_type": "markdown",
   "metadata": {},
   "source": [
    "### • Filtrar\n",
    "<br>\n",
    "\n",
    "<b> •Filtrar até o dia de Hoje</b> <br>\n",
    "= Table.SelectRows(<i>#\"Etapa anterior\" </i> , each <i>[NOME DA COLUNA]</i> < Date.From(DateTime.LocalNow()))\n",
    "\n",
    "<b> • Filtrar os últimos 10 dias </b> <br>\n",
    "= Table.SelectRows(<i>#\"Etapa anterior\" </i>, each <i>[NOME DA COLUNA]</i> >= (Date.AddDays(Date.From(DateTime.LocalNow()),-10)))\n",
    "\n",
    "<b> • Filtrar Ontem </b> <i>(Se ontem for final de semana, filtrar Sexta-Feira)</i><br>\n",
    "= Table.SelectRows(<i>#\"Etapa anterior\" </i> <br>each if  <i>[COLUNA NOME SEMANA]</i>= \"Segunda-Feira\" then <i>[COLUNA DE DATA]</i> = (Date.AddDays(Date.From(DateTime.LocalNow()),-3)) <br>else <i>[COLUNA DE DATA]</i> = (Date.AddDays(Date.From(DateTime.LocalNow()),-1)))"
   ]
  },
  {
   "cell_type": "markdown",
   "metadata": {},
   "source": [
    " <i>=-=-=-=-=-=-=-=-=-=-=-=-=-=-=-=-=-=-=-=-=-=-=-==-=-=-=-=-=-=-=-=-</i>"
   ]
  },
  {
   "cell_type": "markdown",
   "metadata": {},
   "source": [
    "### • Renomear Colunas pelo Índice\n",
    "<br>\n",
    " \n",
    " <i>   #\"Etapa Anterior\" = ... </i> <br>\n",
    "   \n",
    "<b>   #\"Colunas Renomeadas\" </b> = Table.RenameColumns(#\"Etapa Anterior\",{\n",
    "    <br>{Table.ColumnNames(#\"Etapa Anterior\"){0}, \"Inserir novo nome da coluna \"},\n",
    "    <br>{Table.ColumnNames(#\"Etapa Anterior\"){1}, \"Inserir novo nome da coluna 1\"},\n",
    "    <br>{Table.ColumnNames(#\"Etapa Anterior\"){2}, \"Inserir novo nome da coluna 2\"},\n",
    "    <br>{Table.ColumnNames(#\"Etapa Anterior\"){3}, \"Coluna Renomeada 3\"}}), \n",
    "\n",
    "<i>   #\"Proxima Etapa\" = ... </i> "
   ]
  },
  {
   "cell_type": "markdown",
   "metadata": {},
   "source": [
    " <i>=-=-=-=-=-=-=-=-=-=-=-=-=-=-=-=-=-=-=-=-=-=-=-==-=-=-=-=-=-=-=-=-</i>"
   ]
  }
 ],
 "metadata": {
  "kernelspec": {
   "display_name": "Python 3",
   "language": "python",
   "name": "python3"
  },
  "language_info": {
   "codemirror_mode": {
    "name": "ipython",
    "version": 3
   },
   "file_extension": ".py",
   "mimetype": "text/x-python",
   "name": "python",
   "nbconvert_exporter": "python",
   "pygments_lexer": "ipython3",
   "version": "3.8.5"
  }
 },
 "nbformat": 4,
 "nbformat_minor": 4
}
