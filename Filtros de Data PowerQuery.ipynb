{
 "cells": [
  {
   "cell_type": "markdown",
   "metadata": {},
   "source": [
    " <i>=-=-=-=-=-=-=-=-=-=-=-=-=-=-=-=-=-=-=-=-=-=-=-==-=-=-=-=-=-=-=-=-</i>"
   ]
  },
  {
   "cell_type": "markdown",
   "metadata": {},
   "source": [
    "### • Filtrar\n",
    "<br>\n",
    "\n",
    "<b> •Filtrar até o dia de Hoje</b> <br>\n",
    "= Table.SelectRows(<i>#\"Etapa anterior\" </i> , each <i>[NOME DA COLUNA]</i> < Date.From(DateTime.LocalNow()))\n",
    "\n",
    "<b> • Filtrar os últimos 10 dias </b> <br>\n",
    "= Table.SelectRows(<i>#\"Etapa anterior\" </i>, each <i>[NOME DA COLUNA]</i> >= (Date.AddDays(Date.From(DateTime.LocalNow()),-10)))\n",
    "\n",
    "<b> • Filtrar Ontem </b> <i>(Se ontem for final de semana, filtrar Sexta-Feira)</i><br>\n",
    "= Table.SelectRows(<i>#\"Etapa anterior\" </i> <br>each if  <i>[COLUNA NOME SEMANA]</i>= \"Segunda-Feira\" then <i>[COLUNA DE DATA]</i> = (Date.AddDays(Date.From(DateTime.LocalNow()),-3)) <br>else <i>[COLUNA DE DATA]</i> = (Date.AddDays(Date.From(DateTime.LocalNow()),-1)))"
   ]
  },
  {
   "cell_type": "markdown",
   "metadata": {},
   "source": [
    " <i>=-=-=-=-=-=-=-=-=-=-=-=-=-=-=-=-=-=-=-=-=-=-=-==-=-=-=-=-=-=-=-=-</i>"
   ]
  }
 ],
 "metadata": {
  "kernelspec": {
   "display_name": "Python 3",
   "language": "python",
   "name": "python3"
  },
  "language_info": {
   "codemirror_mode": {
    "name": "ipython",
    "version": 3
   },
   "file_extension": ".py",
   "mimetype": "text/x-python",
   "name": "python",
   "nbconvert_exporter": "python",
   "pygments_lexer": "ipython3",
   "version": "3.8.5"
  }
 },
 "nbformat": 4,
 "nbformat_minor": 4
}
