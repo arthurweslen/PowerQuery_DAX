{
 "cells": [
  {
   "cell_type": "markdown",
   "metadata": {},
   "source": [
    "#### Cenário:\n",
    "Imagina que tem um cadastro de pessoas, onde o ID deveria ter 10 caracteres, <br>\n",
    "mas tem pessoas antigas, que tem o ID tem 8,6 ou até 3 caracteres. <br>\n",
    "Para fazer outros testes, precisa que tenha 10 caracteres, então a solução é usar o <b>Text.PadStart </b>\n",
    "\n",
    "Eu poderia fazer uma solução com o IF gigantesco, daria certo, mas o Text.PadStart no exemplo abaixo ele conta o numero de caracter, e completa com o \"0\""
   ]
  },
  {
   "cell_type": "markdown",
   "metadata": {},
   "source": [
    " <i>=-=-=-=-=-=-=-=-=-=-=-=-=-=-=-=-=-=-=-=-=-=-=-==-=-=-=-=-=-=-=-=-</i>"
   ]
  },
  {
   "cell_type": "markdown",
   "metadata": {},
   "source": [
    "### • Acrescentar Números/Caracter \n",
    "<br>\n",
    "<b> • Acrescentar o número ZERO se o número não tiver 10 caracteres </b><br>\n",
    "= Table.AddColumn(<i>#\"Etapa anterior\" , \"ID_USER_CORRIGIDA\"</i> , each Text.PadStart([ID_USER],10, \"0\"))"
   ]
  },
  {
   "cell_type": "markdown",
   "metadata": {},
   "source": [
    " <i>=-=-=-=-=-=-=-=-=-=-=-=-=-=-=-=-=-=-=-=-=-=-=-==-=-=-=-=-=-=-=-=-</i>"
   ]
  },
  {
   "cell_type": "markdown",
   "metadata": {
    "vscode": {
     "languageId": "plaintext"
    }
   },
   "source": [
    "#### Exemplo Coluna ID_USER\n",
    "\n",
    "<b>ID_USER</b> <br>\n",
    "1234567890 <br>\n",
    "1234567 <br>\n",
    "12345 <br>\n",
    "123 <br>\n",
    "\n",
    "\n",
    "\n",
    "#### Exemplo Coluna ID_USER_CORRIGIDA \n",
    "\n",
    "<b>ID_USER_CORRIGIDA</b> <br>\n",
    "1234567890 <br>\n",
    "0001234567 <br>\n",
    "0000012345 <br>\n",
    "0000000123\n"
   ]
  },
  {
   "cell_type": "markdown",
   "metadata": {},
   "source": []
  }
 ],
 "metadata": {
  "kernelspec": {
   "display_name": "Python 3",
   "language": "python",
   "name": "python3"
  },
  "language_info": {
   "codemirror_mode": {
    "name": "ipython",
    "version": 3
   },
   "file_extension": ".py",
   "mimetype": "text/x-python",
   "name": "python",
   "nbconvert_exporter": "python",
   "pygments_lexer": "ipython3",
   "version": "3.8.5"
  }
 },
 "nbformat": 4,
 "nbformat_minor": 4
}
