{
 "cells": [
  {
   "cell_type": "markdown",
   "metadata": {},
   "source": [
    "\n",
    "\n",
    "### ====== Renomenando Colunas (Cenário 1) ====== \n",
    "\n",
    "Nesse primeiro cenário, imagina que as colunas vem de uma pasta do sharepoint, mas por algum motivo, <br>\n",
    "as colunas sempre vem com nome diferente, então não podemos renomear de forma tradicional.<br>\n",
    "Segue a solução abaixo com a primeira solução.\n",
    "\n",
    "Obs: As colunas terão os nomes \"Arquivo\", \"Versão\", \"Indicador\", \"Produto\", \"Valor Total\" <br>\n",
    "\n",
    "#### ====== ====== ====== ====== ====== ====== <br>\n"
   ]
  },
  {
   "cell_type": "code",
   "execution_count": null,
   "metadata": {
    "vscode": {
     "languageId": "dax-language"
    }
   },
   "outputs": [],
   "source": [
    "    // Mudar nomes automaticamente por ID\n",
    "    Source = #\"Cabeçalhos Promovidos\", //Aqui coloca a etapa anterior, no exemplo a etapa seria  #\"Cabeçalhos Promovidos\"\n",
    "    ColumnNames = Table.ColumnNames(Source),\n",
    "    NewNames = {\"Arquivo\", \"Versão\", \"Indicador\", \"Produto\", \"Valor Total\"}, \n",
    "    RenamePairs = List.Zip({List.FirstN(ColumnNames, List.Count(NewNames)), NewNames}),\n",
    "    RenamedTable = Table.RenameColumns(Source, RenamePairs),\n",
    "    //----"
   ]
  },
  {
   "cell_type": "markdown",
   "metadata": {
    "vscode": {
     "languageId": "dax-language"
    }
   },
   "source": [
    "### ====== Renomenando Colunas (Cenário 2) ====== \n",
    "\n",
    "Nesse segundo cenário, eu identifico o índice dascolunas para renomear.<br>\n",
    "<i>(tem casos que eu queria renomear o indice 0, 2, 7)<i>\n",
    "\n",
    "Obs: As colunas terão os nomes \"Arquivo\", \"Versão\", \"Indicador\", \"Produto\", \"Valor Total\" <br>\n",
    "\n",
    "#### ====== ====== ====== ====== ====== ====== <br>"
   ]
  },
  {
   "cell_type": "code",
   "execution_count": null,
   "metadata": {
    "vscode": {
     "languageId": "dax-language"
    }
   },
   "outputs": [],
   "source": [
    "\n",
    "#\"Etapa Anterior\" = ...\n",
    "\n",
    "#\"Colunas Renomeadas\" = Table.RenameColumns(#\"Etapa Anterior\",{\n",
    "{Table.ColumnNames(#\"Etapa Anterior\"){0}, \"Arquivo\"},\n",
    "{Table.ColumnNames(#\"Etapa Anterior\"){1}, \"Versão\"},\n",
    "{Table.ColumnNames(#\"Etapa Anterior\"){2}, \"Indicador\"},\n",
    "{Table.ColumnNames(#\"Etapa Anterior\"){3}, \"Produto\"},\n",
    "{Table.ColumnNames(#\"Etapa Anterior\"){4}, \"Valor Total\"}\n",
    "}),\n",
    "\n",
    "#\"Proxima Etapa\" = ...\n",
    "\n",
    "=-=-=-=-=-=-=-=-=-=-=-=-=-=-=-=-=-=-=-=-=-=-=-==-=-=-=-=-=-=-=-=-"
   ]
  }
 ],
 "metadata": {
  "kernelspec": {
   "display_name": "Python 3",
   "language": "python",
   "name": "python3"
  },
  "language_info": {
   "codemirror_mode": {
    "name": "ipython",
    "version": 3
   },
   "file_extension": ".py",
   "mimetype": "text/x-python",
   "name": "python",
   "nbconvert_exporter": "python",
   "pygments_lexer": "ipython3",
   "version": "3.8.5"
  }
 },
 "nbformat": 4,
 "nbformat_minor": 4
}
